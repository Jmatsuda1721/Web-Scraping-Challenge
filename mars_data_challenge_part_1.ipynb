{
 "cells": [
  {
   "cell_type": "code",
   "execution_count": 119,
   "metadata": {},
   "outputs": [],
   "source": [
    "# # Dependencies\n",
    "from bs4 import BeautifulSoup as bs\n",
    "from splinter import Browser\n",
    "from webdriver_manager.chrome import ChromeDriverManager"
   ]
  },
  {
   "cell_type": "code",
   "execution_count": 120,
   "metadata": {},
   "outputs": [],
   "source": [
    "executable_path = {'executable_path': ChromeDriverManager().install()}\n",
    "browser = Browser('chrome', **executable_path, headless=False)"
   ]
  },
  {
   "cell_type": "code",
   "execution_count": 121,
   "metadata": {},
   "outputs": [],
   "source": [
    "scrape_results= {}"
   ]
  },
  {
   "cell_type": "code",
   "execution_count": 122,
   "metadata": {},
   "outputs": [],
   "source": [
    "##Mars News\n",
    "url = 'https://redplanetscience.com/'\n",
    "browser.visit(url)\n",
    "news_html=browser.html\n",
    "soup=bs(news_html,'html.parser')"
   ]
  },
  {
   "cell_type": "code",
   "execution_count": 123,
   "metadata": {},
   "outputs": [
    {
     "data": {
      "text/plain": [
       "15"
      ]
     },
     "execution_count": 123,
     "metadata": {},
     "output_type": "execute_result"
    }
   ],
   "source": [
    "\n",
    "\n",
    "results=soup.find_all('div', class_='list_text')\n",
    "len(results)"
   ]
  },
  {
   "cell_type": "code",
   "execution_count": 124,
   "metadata": {},
   "outputs": [
    {
     "name": "stdout",
     "output_type": "stream",
     "text": [
      "Title:NASA Prepares for Moon and Mars With New Addition to Its Deep Space Network\n",
      "Preview: Robotic spacecraft will be able to communicate with the dish using radio waves and lasers.\n",
      "Title:NASA's Mars Perseverance Rover Passes Flight Readiness Review\n",
      "Preview: ​The agency's Mars 2020 mission has one more big prelaunch review – the Launch Readiness Review, on July 27.\n",
      "Title:Media Get a Close-Up of NASA's Mars 2020 Rover\n",
      "Preview: The clean room at NASA's Jet Propulsion Laboratory was open to the media to see NASA's next Mars explorer before it leaves for Florida in preparation for a summertime launch.\n",
      "Title:NASA Engineers Checking InSight's Weather Sensors\n",
      "Preview: An electronics issue is suspected to be preventing the sensors from sharing their data about Mars weather with the spacecraft.\n",
      "Title:NASA Readies Perseverance Mars Rover's Earthly Twin \n",
      "Preview: Did you know NASA's next Mars rover has a nearly identical sibling on Earth for testing? Even better, it's about to roll for the first time through a replica Martian landscape.\n",
      "Title:NASA Wins 4 Webbys, 4 People's Voice Awards\n",
      "Preview: Winners include the JPL-managed \"Send Your Name to Mars\" campaign, NASA's Global Climate Change website and Solar System Interactive.\n",
      "Title:Two of a Space Kind: Apollo 12 and Mars 2020\n",
      "Preview: Apollo 12 and the upcoming Mars 2020 mission may be separated by half a century, but they share several goals unique in the annals of space exploration.\n",
      "Title:NASA Invites Students to Name Mars 2020 Rover\n",
      "Preview: Through Nov. 1, K-12 students in the U.S. are encouraged to enter an essay contest to name NASA's next Mars rover.\n",
      "Title:7 Things to Know About the Mars 2020 Perseverance Rover Mission\n",
      "Preview: NASA's next rover to the Red Planet is slated to launch no earlier than July 30. These highlights will get you up to speed on the ambitious mission.\n",
      "Title:NASA Establishes Board to Initially Review Mars Sample Return Plans\n",
      "Preview: The board will assist with analysis of current plans and goals for one of the most difficult missions humanity has ever undertaken.\n",
      "Title:From JPL's Mailroom to Mars and Beyond\n",
      "Preview: Bill Allen has thrived as the mechanical systems design lead for three Mars rover missions, but he got his start as a teenager sorting letters for the NASA center.\n",
      "Title:3 Things We've Learned From NASA's Mars InSight \n",
      "Preview: Scientists are finding new mysteries since the geophysics mission landed two years ago.\n",
      "Title:Independent Review Indicates NASA Prepared for Mars Sample Return Campaign\n",
      "Preview: NASA released an independent review report Tuesday indicating the agency is well positioned for its Mars Sample Return campaign to bring pristine samples from Mars to Earth for scientific study.\n",
      "Title:NASA's Mars Reconnaissance Orbiter Undergoes Memory Update\n",
      "Preview: Other orbiters will continue relaying data from Mars surface missions for a two-week period.\n",
      "Title:NASA's Perseverance Rover Is Midway to Mars \n",
      "Preview: Sometimes half measures can be a good thing – especially on a journey this long. The agency's latest rover only has about 146 million miles left to reach its destination.\n"
     ]
    }
   ],
   "source": [
    "for result in results:\n",
    "    news_title=result.find('div', class_='content_title').text\n",
    "    news_p=result.find('div', class_=\"article_teaser_body\").text\n",
    "\n",
    "    print(f'Title:{news_title}')\n",
    "    print(f'Preview: {news_p}')"
   ]
  },
  {
   "cell_type": "code",
   "execution_count": 125,
   "metadata": {},
   "outputs": [
    {
     "data": {
      "text/plain": [
       "{'Title': \"NASA's Perseverance Rover Is Midway to Mars \",\n",
       " 'Preview': \"Sometimes half measures can be a good thing – especially on a journey this long. The agency's latest rover only has about 146 million miles left to reach its destination.\"}"
      ]
     },
     "execution_count": 125,
     "metadata": {},
     "output_type": "execute_result"
    }
   ],
   "source": [
    "Nasa_News = {\"Title\":news_title, \"Preview\": news_p}\n",
    "Nasa_News"
   ]
  },
  {
   "cell_type": "code",
   "execution_count": 126,
   "metadata": {},
   "outputs": [
    {
     "data": {
      "text/plain": [
       "{'Title': \"NASA's Perseverance Rover Is Midway to Mars \",\n",
       " 'Preview': \"Sometimes half measures can be a good thing – especially on a journey this long. The agency's latest rover only has about 146 million miles left to reach its destination.\"}"
      ]
     },
     "execution_count": 126,
     "metadata": {},
     "output_type": "execute_result"
    }
   ],
   "source": [
    "scrape_results['Title']=news_title\n",
    "scrape_results['Preview']=news_p\n",
    "\n",
    "scrape_results"
   ]
  }
 ],
 "metadata": {
  "kernelspec": {
   "display_name": "Python 3.9.12 ('base')",
   "language": "python",
   "name": "python3"
  },
  "language_info": {
   "codemirror_mode": {
    "name": "ipython",
    "version": 3
   },
   "file_extension": ".py",
   "mimetype": "text/x-python",
   "name": "python",
   "nbconvert_exporter": "python",
   "pygments_lexer": "ipython3",
   "version": "3.9.12"
  },
  "orig_nbformat": 4,
  "vscode": {
   "interpreter": {
    "hash": "ffba7e9c3eb317127a1c8506e75c648b19515eb39da098362597a93f86e97421"
   }
  }
 },
 "nbformat": 4,
 "nbformat_minor": 2
}
